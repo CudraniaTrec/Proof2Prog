{
 "cells": [
  {
   "cell_type": "markdown",
   "metadata": {},
   "source": [
    "## demo for parsing"
   ]
  },
  {
   "cell_type": "code",
   "execution_count": null,
   "metadata": {},
   "outputs": [],
   "source": [
    "%load_ext autoreload\n",
    "%autoreload 2\n",
    "from tree_sitter_languages import get_parser\n",
    "parser = get_parser(\"java\")\n",
    "\n",
    "with open(\"grammar_test.java\", \"r\") as file:\n",
    "    source_code = file.read()\n",
    "print(source_code)\n",
    "\n",
    "import utils\n",
    "tree = parser.parse(bytes(source_code, \"utf8\"))\n",
    "print(utils.format_code(tree.root_node.sexp()))"
   ]
  },
  {
   "cell_type": "markdown",
   "metadata": {},
   "source": [
    "## Parse all solutions"
   ]
  },
  {
   "cell_type": "code",
   "execution_count": 5,
   "metadata": {},
   "outputs": [
    {
     "data": {
      "text/plain": [
       "True"
      ]
     },
     "execution_count": 5,
     "metadata": {},
     "output_type": "execute_result"
    }
   ],
   "source": [
    "# get program model from a java file\n",
    "def getProgram(file_path):\n",
    "    with open(file_path, \"r\") as file:\n",
    "        source_code = file.read()\n",
    "        utils.source_code_line = source_code.split(\"\\n\")\n",
    "    tree = parser.parse(bytes(source_code, \"utf8\"))\n",
    "    return utils.visit_program(tree.root_node)\n",
    "\n",
    "# print program as a java file\n",
    "def printJava(program):\n",
    "    return utils.addIndentation(program.toString())\n",
    "\n",
    "# validate the parser and the java generation\n",
    "def validateJava(file_path):\n",
    "    return_value = True\n",
    "    try:\n",
    "        program = getProgram(file_path)\n",
    "        javaCode= printJava(program)\n",
    "        tree = parser.parse(bytes(javaCode, \"utf8\"))\n",
    "    except Exception as e:\n",
    "        print(f\"\\nError in parsing {file_path}\")\n",
    "        print(e)\n",
    "        return_value = False\n",
    "    finally:\n",
    "        return return_value\n",
    "    \n",
    "test_filepath = \"grammar_test.java\"\n",
    "program = getProgram(test_filepath)\n",
    "with open(\"test.java\", \"w\") as file:\n",
    "    file.write(printJava(program))\n",
    "validateJava(\"test.java\")"
   ]
  },
  {
   "cell_type": "code",
   "execution_count": null,
   "metadata": {},
   "outputs": [],
   "source": [
    "import os\n",
    "import subprocess\n",
    "# Path to the solutions folder\n",
    "folder_path = \"solutions\"\n",
    "\n",
    "# Get the list of Java code files in the folder\n",
    "java_files = [file for file in os.listdir(folder_path) if file.endswith(\".java\")]\n",
    "\n",
    "java_files.sort()\n",
    "error_cnt=0\n",
    "# Loop through each Java code file\n",
    "for file_name in java_files[:]:\n",
    "    file_path = os.path.join(folder_path, file_name)\n",
    "    \n",
    "    # using the parser to validate the java file\n",
    "    if not validateJava(file_path):\n",
    "        error_cnt+=1\n",
    "\n",
    "    # using javac to validate the java file\n",
    "    # try:\n",
    "    #     with open(\"test.java\", \"w\") as file:\n",
    "    #         file.write(printJava(getProgram(file_path)))\n",
    "    # except Exception as e:\n",
    "    #     print(f\"\\nError in parsing {file_path}\")\n",
    "    #     print(e)\n",
    "    #     error_cnt+=1\n",
    "    #     continue\n",
    "    # res = subprocess.run(\n",
    "    #             [\"javac\", \"-d\", \"tmp\", file_path],\n",
    "    #             stdout=subprocess.PIPE,\n",
    "    #             stderr=subprocess.PIPE,\n",
    "    #             timeout=60,\n",
    "    #         )\n",
    "    # if res.returncode != 0:\n",
    "    #     print(f\"\\nError in parsing {file_path}\")\n",
    "    #     print(res.stderr.decode(\"utf-8\"))\n",
    "    #     error_cnt+=1\n",
    "print(f\"Total errors: {error_cnt} out of {len(java_files)} files.\")"
   ]
  },
  {
   "cell_type": "markdown",
   "metadata": {},
   "source": [
    "## Translating Program Model into Coq Proof"
   ]
  },
  {
   "cell_type": "code",
   "execution_count": 11,
   "metadata": {},
   "outputs": [
    {
     "name": "stdout",
     "output_type": "stream",
     "text": [
      "CompletedProcess(args=['coqc', '../demo/test.v'], returncode=1, stdout=b'', stderr=b'File \"../demo/test.v\", line 1, characters 0-31:\\nError: Cannot find a physical path bound to logical path\\nSyntax with prefix PLF.\\n\\n')\n"
     ]
    }
   ],
   "source": [
    "# coq proof test\n",
    "def validateCoqProof(file_path):\n",
    "    program=getProgram(file_path)\n",
    "    coqProof=program.toCoq().toString()\n",
    "    prefix=\"\"\"From PLF Require Import Syntax.\n",
    "Open Scope string_scope.\n",
    "\n",
    "Example prog_well_typed : exists p, program_well_typed p.\n",
    "Proof with (simpl;try(reflexivity)).\n",
    "unfold program_well_typed.\n",
    "eexists.\n",
    "eexists.\"\"\"\n",
    "    suffix=\"\"\"Defined.\n",
    "Definition prog := the_exists_term (prog_well_typed).\n",
    "Print prog.\"\"\"\n",
    "    coqProof=f\"{prefix}\\n{coqProof}\\n{suffix}\"\n",
    "    with open(\"../coq_code/test.v\", \"w\") as file:\n",
    "        file.write(coqProof)\n",
    "    res = subprocess.run(\n",
    "                # coqc -Q ../coq_code PLF ../coq_code/test.v\n",
    "                [\"coqc\", \"-Q\",\"../coq_code\", \"PLF\", \"../coq_code/test.v\"],\n",
    "                stdout=subprocess.PIPE,\n",
    "                stderr=subprocess.PIPE,\n",
    "                timeout=60,\n",
    "            )\n",
    "    print(res)\n",
    "\n",
    "validateCoqProof(\"test.java\")"
   ]
  }
 ],
 "metadata": {
  "kernelspec": {
   "display_name": "base",
   "language": "python",
   "name": "python3"
  },
  "language_info": {
   "codemirror_mode": {
    "name": "ipython",
    "version": 3
   },
   "file_extension": ".py",
   "mimetype": "text/x-python",
   "name": "python",
   "nbconvert_exporter": "python",
   "pygments_lexer": "ipython3",
   "version": "3.8.18"
  }
 },
 "nbformat": 4,
 "nbformat_minor": 2
}
